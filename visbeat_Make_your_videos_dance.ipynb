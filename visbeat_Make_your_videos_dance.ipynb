{
  "nbformat": 4,
  "nbformat_minor": 0,
  "metadata": {
    "colab": {
      "name": "visbeat - Make your videos dance.ipynb",
      "provenance": [],
      "collapsed_sections": [],
      "include_colab_link": true
    },
    "kernelspec": {
      "name": "python3",
      "display_name": "Python 3"
    },
    "language_info": {
      "name": "python"
    }
  },
  "cells": [
    {
      "cell_type": "markdown",
      "metadata": {
        "id": "view-in-github",
        "colab_type": "text"
      },
      "source": [
        "<a href=\"https://colab.research.google.com/github/austinbrown34/visbeat-jupyter/blob/main/visbeat_Make_your_videos_dance.ipynb\" target=\"_parent\"><img src=\"https://colab.research.google.com/assets/colab-badge.svg\" alt=\"Open In Colab\"/></a>"
      ]
    },
    {
      "cell_type": "markdown",
      "metadata": {
        "id": "WpKqYqdspBr8"
      },
      "source": [
        "# Visbeat - Code for making anything dance to anything\n",
        "\"Visual Rhythm and Beat\" SIGGRAPH 2018, Abe Davis and Maneesh Agrawala\n",
        "\n",
        "Colab implementation by [mathigatti](http://mathigatti.com/)."
      ]
    },
    {
      "cell_type": "code",
      "metadata": {
        "id": "OX4GdvTmnrNH"
      },
      "source": [
        "#@title  ⬅ Press the play button to install visbeat\n",
        "from IPython.display import clear_output \n",
        "!python2 -m pip install visbeat\n",
        "!python2 -m pip install imageio==2.4.1\n",
        "clear_output()"
      ],
      "execution_count": 8,
      "outputs": []
    },
    {
      "cell_type": "markdown",
      "metadata": {
        "id": "BaQFb6o6o1BI"
      },
      "source": [
        "### Choose your videos and press the play button of that\n",
        "Can be a youtube video url or a path to a video file.\n",
        "\n",
        "Change synch_video_beat if you want the video to start some beats in the future, instead of the beginning. The same for the audio, using synch_audio_beat."
      ]
    },
    {
      "cell_type": "code",
      "metadata": {
        "id": "zrtS-qXGnoni",
        "colab": {
          "base_uri": "https://localhost:8080/"
        },
        "outputId": "a0591faa-8c87-4889-de32-73a19e6e8714"
      },
      "source": [
        "%%writefile example.py\n",
        "import visbeat\n",
        "\n",
        "source_url = 'https://www.youtube.com/watch?v=UT7ilqcoTWI' #@param {\"type\":\"string\"}\n",
        "target_url = 'https://www.youtube.com/watch?v=XhLta2JRUqE' #@param {\"type\":\"string\"}\n",
        "\n",
        "synch_video_beat = 0 #@param {\"type\":\"slider\", \"min\":0, \"max\":500}\n",
        "synch_audio_beat = 0 #@param {\"type\":\"slider\", \"min\":0, \"max\":500}\n",
        "output_path = 'result.mp4'\n",
        "\n",
        "result = visbeat.AutoDancefer(source=source_url, target = target_url, \n",
        "                              output_path = output_path,\n",
        "                              synch_video_beat = synch_video_beat,\n",
        "                              synch_audio_beat = synch_audio_beat);\n",
        "result.play();"
      ],
      "execution_count": 22,
      "outputs": [
        {
          "output_type": "stream",
          "name": "stdout",
          "text": [
            "Overwriting example.py\n"
          ]
        }
      ]
    },
    {
      "cell_type": "code",
      "metadata": {
        "id": "nATL1vA_oNiL",
        "colab": {
          "base_uri": "https://localhost:8080/"
        },
        "outputId": "20780763-005e-4f54-8cef-c9a4bdc994b7"
      },
      "source": [
        "#@title ⬅ Press the button to generate the video\n",
        "from IPython.display import clear_output \n",
        "!rm -f /content/result.mp4\n",
        "!python2 example.py\n",
        "# clear_output()"
      ],
      "execution_count": 23,
      "outputs": [
        {
          "output_type": "stream",
          "name": "stdout",
          "text": [
            "Video source at ./VisBeatAssets/VideoSources/UT7ilqcoTWI/\n",
            "\u001b[0;33mWARNING:\u001b[0m Parameter outtmpl is bytes, but should be a unicode string. Put  from __future__ import unicode_literals  at the top of your code file or consider switching to Python 3.x.\n",
            "[youtube] UT7ilqcoTWI: Downloading webpage\n",
            "[info] Writing video description metadata as JSON to: ./VisBeatAssets/VideoSources/UT7ilqcoTWI/Versions//Original/maxheight_240/Take Me With You-UT7ilqcoTWI.info.json\n",
            "[download] Destination: ./VisBeatAssets/VideoSources/UT7ilqcoTWI/Versions//Original/maxheight_240/Take Me With You-UT7ilqcoTWI.f133.mp4\n",
            "\u001b[K[download] 100% of 4.47MiB in 00:58\n",
            "[download] Destination: ./VisBeatAssets/VideoSources/UT7ilqcoTWI/Versions//Original/maxheight_240/Take Me With You-UT7ilqcoTWI.f140.m4a\n",
            "\u001b[K[download] 100% of 5.83MiB in 01:23\n",
            "[ffmpeg] Merging formats into \"./VisBeatAssets/VideoSources/UT7ilqcoTWI/Versions//Original/maxheight_240/Take Me With You-UT7ilqcoTWI.mp4\"\n",
            "Deleting original file ./VisBeatAssets/VideoSources/UT7ilqcoTWI/Versions//Original/maxheight_240/Take Me With You-UT7ilqcoTWI.f133.mp4 (pass -k to keep)\n",
            "Deleting original file ./VisBeatAssets/VideoSources/UT7ilqcoTWI/Versions//Original/maxheight_240/Take Me With You-UT7ilqcoTWI.f140.m4a (pass -k to keep)\n",
            "Saved to ./VisBeatAssets/VideoSources/UT7ilqcoTWI/Versions//Original/maxheight_240//Take Me With You-UT7ilqcoTWI.mp4\n",
            "Calculating frames for Take Me With You-UT7ilqcoTWI_240...\n",
            "Done.\n",
            "Warping Take Me With You-UT7ilqcoTWI_240 to Benny Benassi - Satisfaction (MONCERAT Remix)-XhLta2JRUqE_240\n",
            "[<visbeat.Event.Event object at 0x7ff099fbf7d0>, <visbeat.Event.Event object at 0x7ff099fbf850>, <visbeat.Event.Event object at 0x7ff099fbf810>, <visbeat.Event.Event object at 0x7ff099fbf890>, <visbeat.Event.Event object at 0x7ff099fbf9d0>, <visbeat.Event.Event object at 0x7ff099fbf910>, <visbeat.Event.Event object at 0x7ff099fbfa50>, <visbeat.Event.Event object at 0x7ff099fbfa90>, <visbeat.Event.Event object at 0x7ff099fbfad0>, <visbeat.Event.Event object at 0x7ff099fbfb10>, <visbeat.Event.Event object at 0x7ff099fbfb50>, <visbeat.Event.Event object at 0x7ff099fbfb90>, <visbeat.Event.Event object at 0x7ff099fbfbd0>, <visbeat.Event.Event object at 0x7ff099fbfc10>, <visbeat.Event.Event object at 0x7ff099fbfc50>, <visbeat.Event.Event object at 0x7ff099fbfc90>, <visbeat.Event.Event object at 0x7ff099fbfcd0>, <visbeat.Event.Event object at 0x7ff099fbfd10>, <visbeat.Event.Event object at 0x7ff099fbfd50>, <visbeat.Event.Event object at 0x7ff099fbfd90>, <visbeat.Event.Event object at 0x7ff099fbfdd0>, <visbeat.Event.Event object at 0x7ff099fbfe10>, <visbeat.Event.Event object at 0x7ff099fbfe50>, <visbeat.Event.Event object at 0x7ff099fbfe90>, <visbeat.Event.Event object at 0x7ff099fbfed0>, <visbeat.Event.Event object at 0x7ff099fbff10>, <visbeat.Event.Event object at 0x7ff099fbff50>, <visbeat.Event.Event object at 0x7ff099fbff90>, <visbeat.Event.Event object at 0x7ff099fbffd0>, <visbeat.Event.Event object at 0x7ff099fb8050>, <visbeat.Event.Event object at 0x7ff099fb8090>, <visbeat.Event.Event object at 0x7ff099fb80d0>, <visbeat.Event.Event object at 0x7ff099fb8110>, <visbeat.Event.Event object at 0x7ff099fb8150>, <visbeat.Event.Event object at 0x7ff099fb8190>, <visbeat.Event.Event object at 0x7ff099fb81d0>, <visbeat.Event.Event object at 0x7ff099fb8210>, <visbeat.Event.Event object at 0x7ff099fb8250>, <visbeat.Event.Event object at 0x7ff099fb8290>, <visbeat.Event.Event object at 0x7ff099fb82d0>, <visbeat.Event.Event object at 0x7ff099fb8310>, <visbeat.Event.Event object at 0x7ff099fb8350>, <visbeat.Event.Event object at 0x7ff099fb8390>, <visbeat.Event.Event object at 0x7ff099fb83d0>, <visbeat.Event.Event object at 0x7ff099fb8410>, <visbeat.Event.Event object at 0x7ff099fb8450>, <visbeat.Event.Event object at 0x7ff099fb8490>, <visbeat.Event.Event object at 0x7ff099fb84d0>, <visbeat.Event.Event object at 0x7ff099fb8510>, <visbeat.Event.Event object at 0x7ff099fb8550>, <visbeat.Event.Event object at 0x7ff099fb8590>, <visbeat.Event.Event object at 0x7ff099fb85d0>, <visbeat.Event.Event object at 0x7ff099fb8610>, <visbeat.Event.Event object at 0x7ff099fb8650>, <visbeat.Event.Event object at 0x7ff099fb8690>, <visbeat.Event.Event object at 0x7ff099fb86d0>, <visbeat.Event.Event object at 0x7ff099fb8710>, <visbeat.Event.Event object at 0x7ff099fb8750>, <visbeat.Event.Event object at 0x7ff099fb8790>, <visbeat.Event.Event object at 0x7ff099fb87d0>, <visbeat.Event.Event object at 0x7ff099fb8810>, <visbeat.Event.Event object at 0x7ff099fb8850>, <visbeat.Event.Event object at 0x7ff099fb8890>, <visbeat.Event.Event object at 0x7ff099fb88d0>, <visbeat.Event.Event object at 0x7ff099fb8910>, <visbeat.Event.Event object at 0x7ff099fb8950>, <visbeat.Event.Event object at 0x7ff099fb8990>, <visbeat.Event.Event object at 0x7ff099fb89d0>, <visbeat.Event.Event object at 0x7ff099fb8a10>, <visbeat.Event.Event object at 0x7ff099fb8a50>, <visbeat.Event.Event object at 0x7ff099fb8a90>, <visbeat.Event.Event object at 0x7ff099fb8ad0>, <visbeat.Event.Event object at 0x7ff099fb8b10>, <visbeat.Event.Event object at 0x7ff099fb8b50>, <visbeat.Event.Event object at 0x7ff099fb8b90>, <visbeat.Event.Event object at 0x7ff099fb8bd0>, <visbeat.Event.Event object at 0x7ff099fb8c10>, <visbeat.Event.Event object at 0x7ff099fb8c50>, <visbeat.Event.Event object at 0x7ff099fb8c90>, <visbeat.Event.Event object at 0x7ff099fb8cd0>, <visbeat.Event.Event object at 0x7ff099fb8d10>, <visbeat.Event.Event object at 0x7ff099fb8d50>, <visbeat.Event.Event object at 0x7ff099fb8d90>, <visbeat.Event.Event object at 0x7ff099fb8dd0>, <visbeat.Event.Event object at 0x7ff099fb8e10>, <visbeat.Event.Event object at 0x7ff099fb8e50>, <visbeat.Event.Event object at 0x7ff099fb8e90>, <visbeat.Event.Event object at 0x7ff099fb8ed0>, <visbeat.Event.Event object at 0x7ff099fb8f10>, <visbeat.Event.Event object at 0x7ff099fb8f50>, <visbeat.Event.Event object at 0x7ff099fb8f90>, <visbeat.Event.Event object at 0x7ff099fb8fd0>, <visbeat.Event.Event object at 0x7ff099fd2050>, <visbeat.Event.Event object at 0x7ff099fd2090>, <visbeat.Event.Event object at 0x7ff099fd20d0>, <visbeat.Event.Event object at 0x7ff099fd2110>, <visbeat.Event.Event object at 0x7ff099fd2150>, <visbeat.Event.Event object at 0x7ff099fd2190>, <visbeat.Event.Event object at 0x7ff099fd21d0>, <visbeat.Event.Event object at 0x7ff099fd2210>, <visbeat.Event.Event object at 0x7ff099fd2250>, <visbeat.Event.Event object at 0x7ff099fd2290>, <visbeat.Event.Event object at 0x7ff099fd22d0>, <visbeat.Event.Event object at 0x7ff099fd2310>, <visbeat.Event.Event object at 0x7ff099fd2350>, <visbeat.Event.Event object at 0x7ff099fd2390>, <visbeat.Event.Event object at 0x7ff099fd23d0>, <visbeat.Event.Event object at 0x7ff099fd2410>, <visbeat.Event.Event object at 0x7ff099fd2450>, <visbeat.Event.Event object at 0x7ff099fd2490>, <visbeat.Event.Event object at 0x7ff099fd24d0>, <visbeat.Event.Event object at 0x7ff099fd2510>, <visbeat.Event.Event object at 0x7ff099fd2550>, <visbeat.Event.Event object at 0x7ff099fd2590>, <visbeat.Event.Event object at 0x7ff099fd25d0>, <visbeat.Event.Event object at 0x7ff099fd2610>, <visbeat.Event.Event object at 0x7ff099fd2650>, <visbeat.Event.Event object at 0x7ff099fd2690>, <visbeat.Event.Event object at 0x7ff099fd26d0>, <visbeat.Event.Event object at 0x7ff099fd2710>, <visbeat.Event.Event object at 0x7ff099fd2750>, <visbeat.Event.Event object at 0x7ff099fd2790>, <visbeat.Event.Event object at 0x7ff099fd27d0>, <visbeat.Event.Event object at 0x7ff099fd2810>, <visbeat.Event.Event object at 0x7ff099fd2850>, <visbeat.Event.Event object at 0x7ff099fd2890>, <visbeat.Event.Event object at 0x7ff099fd28d0>, <visbeat.Event.Event object at 0x7ff099fd2910>, <visbeat.Event.Event object at 0x7ff099fd2950>, <visbeat.Event.Event object at 0x7ff099fd2990>, <visbeat.Event.Event object at 0x7ff099fd29d0>, <visbeat.Event.Event object at 0x7ff099fd2a10>, <visbeat.Event.Event object at 0x7ff099fd2a50>, <visbeat.Event.Event object at 0x7ff099fd2a90>, <visbeat.Event.Event object at 0x7ff099fd2ad0>, <visbeat.Event.Event object at 0x7ff099fd2b10>, <visbeat.Event.Event object at 0x7ff099fd2b50>, <visbeat.Event.Event object at 0x7ff099fd2b90>, <visbeat.Event.Event object at 0x7ff099fd2bd0>, <visbeat.Event.Event object at 0x7ff099fd2c10>, <visbeat.Event.Event object at 0x7ff099fd2c50>, <visbeat.Event.Event object at 0x7ff099fd2c90>, <visbeat.Event.Event object at 0x7ff099fd2cd0>, <visbeat.Event.Event object at 0x7ff099fd2d10>, <visbeat.Event.Event object at 0x7ff099fd2d50>, <visbeat.Event.Event object at 0x7ff099fd2d90>, <visbeat.Event.Event object at 0x7ff099fd2dd0>, <visbeat.Event.Event object at 0x7ff099fd2e10>, <visbeat.Event.Event object at 0x7ff099fd2e50>, <visbeat.Event.Event object at 0x7ff099fd2e90>, <visbeat.Event.Event object at 0x7ff099fd2ed0>, <visbeat.Event.Event object at 0x7ff099fd2f10>, <visbeat.Event.Event object at 0x7ff099fd2f50>, <visbeat.Event.Event object at 0x7ff099fd2f90>, <visbeat.Event.Event object at 0x7ff099fd2fd0>, <visbeat.Event.Event object at 0x7ff099fde050>, <visbeat.Event.Event object at 0x7ff099fde090>, <visbeat.Event.Event object at 0x7ff099fde0d0>, <visbeat.Event.Event object at 0x7ff099fde110>, <visbeat.Event.Event object at 0x7ff099fde150>, <visbeat.Event.Event object at 0x7ff099fde190>, <visbeat.Event.Event object at 0x7ff099fde1d0>, <visbeat.Event.Event object at 0x7ff099fde210>, <visbeat.Event.Event object at 0x7ff099fde250>, <visbeat.Event.Event object at 0x7ff099fde290>, <visbeat.Event.Event object at 0x7ff099fde2d0>, <visbeat.Event.Event object at 0x7ff099fde310>, <visbeat.Event.Event object at 0x7ff099fde350>, <visbeat.Event.Event object at 0x7ff099fde390>, <visbeat.Event.Event object at 0x7ff099fde3d0>, <visbeat.Event.Event object at 0x7ff099fde410>, <visbeat.Event.Event object at 0x7ff099fde450>, <visbeat.Event.Event object at 0x7ff099fde490>, <visbeat.Event.Event object at 0x7ff099fde4d0>, <visbeat.Event.Event object at 0x7ff099fde510>, <visbeat.Event.Event object at 0x7ff099fde550>, <visbeat.Event.Event object at 0x7ff099fde590>, <visbeat.Event.Event object at 0x7ff099fde5d0>, <visbeat.Event.Event object at 0x7ff099fde610>, <visbeat.Event.Event object at 0x7ff099fde650>, <visbeat.Event.Event object at 0x7ff099fde690>, <visbeat.Event.Event object at 0x7ff099fde6d0>, <visbeat.Event.Event object at 0x7ff099fde710>, <visbeat.Event.Event object at 0x7ff099fde750>, <visbeat.Event.Event object at 0x7ff099fde790>, <visbeat.Event.Event object at 0x7ff099fde7d0>, <visbeat.Event.Event object at 0x7ff099fde810>, <visbeat.Event.Event object at 0x7ff099fde850>, <visbeat.Event.Event object at 0x7ff099fde890>, <visbeat.Event.Event object at 0x7ff099fde8d0>, <visbeat.Event.Event object at 0x7ff099fde910>, <visbeat.Event.Event object at 0x7ff099fde950>, <visbeat.Event.Event object at 0x7ff099fde990>, <visbeat.Event.Event object at 0x7ff099fde9d0>, <visbeat.Event.Event object at 0x7ff099fdea10>, <visbeat.Event.Event object at 0x7ff099fdea50>, <visbeat.Event.Event object at 0x7ff099fdea90>, <visbeat.Event.Event object at 0x7ff099fdead0>, <visbeat.Event.Event object at 0x7ff099fdeb10>, <visbeat.Event.Event object at 0x7ff099fdeb50>, <visbeat.Event.Event object at 0x7ff099fdeb90>, <visbeat.Event.Event object at 0x7ff099fdebd0>, <visbeat.Event.Event object at 0x7ff099fdec10>, <visbeat.Event.Event object at 0x7ff099fdec50>, <visbeat.Event.Event object at 0x7ff099fdec90>, <visbeat.Event.Event object at 0x7ff099fdecd0>, <visbeat.Event.Event object at 0x7ff099fded10>, <visbeat.Event.Event object at 0x7ff099fded50>, <visbeat.Event.Event object at 0x7ff099fded90>, <visbeat.Event.Event object at 0x7ff099fdedd0>, <visbeat.Event.Event object at 0x7ff099fdee10>, <visbeat.Event.Event object at 0x7ff099fdee50>, <visbeat.Event.Event object at 0x7ff099fdee90>, <visbeat.Event.Event object at 0x7ff099fdeed0>, <visbeat.Event.Event object at 0x7ff099fdef10>, <visbeat.Event.Event object at 0x7ff099fdef50>, <visbeat.Event.Event object at 0x7ff099fdef90>, <visbeat.Event.Event object at 0x7ff099fdefd0>, <visbeat.Event.Event object at 0x7ff099ebc050>, <visbeat.Event.Event object at 0x7ff099ebc090>, <visbeat.Event.Event object at 0x7ff099ebc0d0>, <visbeat.Event.Event object at 0x7ff099ebc110>, <visbeat.Event.Event object at 0x7ff099ebc150>, <visbeat.Event.Event object at 0x7ff099ebc190>, <visbeat.Event.Event object at 0x7ff099ebc1d0>, <visbeat.Event.Event object at 0x7ff099ebc210>, <visbeat.Event.Event object at 0x7ff099ebc250>, <visbeat.Event.Event object at 0x7ff099ebc290>, <visbeat.Event.Event object at 0x7ff099ebc2d0>, <visbeat.Event.Event object at 0x7ff099ebc310>, <visbeat.Event.Event object at 0x7ff099ebc350>, <visbeat.Event.Event object at 0x7ff099ebc390>, <visbeat.Event.Event object at 0x7ff099ebc3d0>, <visbeat.Event.Event object at 0x7ff099ebc410>, <visbeat.Event.Event object at 0x7ff099ebc450>, <visbeat.Event.Event object at 0x7ff099ebc490>, <visbeat.Event.Event object at 0x7ff099ebc4d0>, <visbeat.Event.Event object at 0x7ff099ebc510>, <visbeat.Event.Event object at 0x7ff099ebc550>, <visbeat.Event.Event object at 0x7ff099ebc590>, <visbeat.Event.Event object at 0x7ff099ebc5d0>, <visbeat.Event.Event object at 0x7ff099ebc610>, <visbeat.Event.Event object at 0x7ff099ebc650>, <visbeat.Event.Event object at 0x7ff099ebc690>, <visbeat.Event.Event object at 0x7ff099ebc6d0>, <visbeat.Event.Event object at 0x7ff099ebc710>, <visbeat.Event.Event object at 0x7ff099ebc750>, <visbeat.Event.Event object at 0x7ff099ebc790>, <visbeat.Event.Event object at 0x7ff099ebc7d0>, <visbeat.Event.Event object at 0x7ff099ebc810>, <visbeat.Event.Event object at 0x7ff099ebc850>, <visbeat.Event.Event object at 0x7ff099ebc890>, <visbeat.Event.Event object at 0x7ff099ebc8d0>, <visbeat.Event.Event object at 0x7ff099ebc910>, <visbeat.Event.Event object at 0x7ff099ebc950>, <visbeat.Event.Event object at 0x7ff099ebc990>, <visbeat.Event.Event object at 0x7ff099ebc9d0>, <visbeat.Event.Event object at 0x7ff099ebca10>, <visbeat.Event.Event object at 0x7ff099ebca50>, <visbeat.Event.Event object at 0x7ff099ebca90>, <visbeat.Event.Event object at 0x7ff099ebcad0>, <visbeat.Event.Event object at 0x7ff099ebcb10>, <visbeat.Event.Event object at 0x7ff099ebcb50>, <visbeat.Event.Event object at 0x7ff099ebcb90>, <visbeat.Event.Event object at 0x7ff099ebcbd0>, <visbeat.Event.Event object at 0x7ff099ebcc10>, <visbeat.Event.Event object at 0x7ff099ebcc50>, <visbeat.Event.Event object at 0x7ff099ebcc90>, <visbeat.Event.Event object at 0x7ff099ebccd0>, <visbeat.Event.Event object at 0x7ff099ebcd10>, <visbeat.Event.Event object at 0x7ff099ebcd50>, <visbeat.Event.Event object at 0x7ff099ebcd90>, <visbeat.Event.Event object at 0x7ff099ebcdd0>, <visbeat.Event.Event object at 0x7ff099ebce10>, <visbeat.Event.Event object at 0x7ff099ebce50>, <visbeat.Event.Event object at 0x7ff099ebce90>, <visbeat.Event.Event object at 0x7ff099ebced0>, <visbeat.Event.Event object at 0x7ff099ebcf10>, <visbeat.Event.Event object at 0x7ff099ebcf50>, <visbeat.Event.Event object at 0x7ff099ebcf90>, <visbeat.Event.Event object at 0x7ff099ebcfd0>, <visbeat.Event.Event object at 0x7ff099eb4050>, <visbeat.Event.Event object at 0x7ff099eb4090>, <visbeat.Event.Event object at 0x7ff099eb40d0>, <visbeat.Event.Event object at 0x7ff099eb4110>, <visbeat.Event.Event object at 0x7ff099eb4150>, <visbeat.Event.Event object at 0x7ff099eb4190>, <visbeat.Event.Event object at 0x7ff099eb41d0>, <visbeat.Event.Event object at 0x7ff099eb4210>, <visbeat.Event.Event object at 0x7ff099eb4250>, <visbeat.Event.Event object at 0x7ff099eb4290>, <visbeat.Event.Event object at 0x7ff099eb42d0>, <visbeat.Event.Event object at 0x7ff099eb4310>, <visbeat.Event.Event object at 0x7ff099eb4350>, <visbeat.Event.Event object at 0x7ff099eb4390>, <visbeat.Event.Event object at 0x7ff099eb43d0>, <visbeat.Event.Event object at 0x7ff099eb4410>, <visbeat.Event.Event object at 0x7ff099eb4450>, <visbeat.Event.Event object at 0x7ff099eb4490>, <visbeat.Event.Event object at 0x7ff099eb44d0>, <visbeat.Event.Event object at 0x7ff099eb4510>, <visbeat.Event.Event object at 0x7ff099eb4550>, <visbeat.Event.Event object at 0x7ff099eb4590>, <visbeat.Event.Event object at 0x7ff099eb45d0>, <visbeat.Event.Event object at 0x7ff099eb4610>, <visbeat.Event.Event object at 0x7ff099eb4650>, <visbeat.Event.Event object at 0x7ff099eb4690>, <visbeat.Event.Event object at 0x7ff099eb46d0>, <visbeat.Event.Event object at 0x7ff099eb4710>, <visbeat.Event.Event object at 0x7ff099eb4750>, <visbeat.Event.Event object at 0x7ff099eb4790>, <visbeat.Event.Event object at 0x7ff099eb47d0>, <visbeat.Event.Event object at 0x7ff099eb4810>, <visbeat.Event.Event object at 0x7ff099eb4850>, <visbeat.Event.Event object at 0x7ff099eb4890>, <visbeat.Event.Event object at 0x7ff099eb48d0>, <visbeat.Event.Event object at 0x7ff099eb4910>, <visbeat.Event.Event object at 0x7ff099eb4950>, <visbeat.Event.Event object at 0x7ff099eb4990>, <visbeat.Event.Event object at 0x7ff099eb49d0>, <visbeat.Event.Event object at 0x7ff099eb4a10>, <visbeat.Event.Event object at 0x7ff099eb4a50>, <visbeat.Event.Event object at 0x7ff099eb4a90>, <visbeat.Event.Event object at 0x7ff099eb4ad0>, <visbeat.Event.Event object at 0x7ff099eb4b10>, <visbeat.Event.Event object at 0x7ff099eb4b50>, <visbeat.Event.Event object at 0x7ff099eb4b90>, <visbeat.Event.Event object at 0x7ff099eb4bd0>, <visbeat.Event.Event object at 0x7ff099eb4c10>, <visbeat.Event.Event object at 0x7ff099eb4c50>, <visbeat.Event.Event object at 0x7ff099eb4c90>, <visbeat.Event.Event object at 0x7ff099eb4cd0>, <visbeat.Event.Event object at 0x7ff099eb4d10>, <visbeat.Event.Event object at 0x7ff099eb4d50>, <visbeat.Event.Event object at 0x7ff099eb4d90>, <visbeat.Event.Event object at 0x7ff099eb4dd0>, <visbeat.Event.Event object at 0x7ff099eb4e10>, <visbeat.Event.Event object at 0x7ff099eb4e50>, <visbeat.Event.Event object at 0x7ff099eb4e90>, <visbeat.Event.Event object at 0x7ff099eb4ed0>, <visbeat.Event.Event object at 0x7ff099eb4f10>, <visbeat.Event.Event object at 0x7ff099eb4f50>, <visbeat.Event.Event object at 0x7ff099eb4f90>, <visbeat.Event.Event object at 0x7ff099eb4fd0>, <visbeat.Event.Event object at 0x7ff099eac050>, <visbeat.Event.Event object at 0x7ff099eac090>, <visbeat.Event.Event object at 0x7ff099eac0d0>, <visbeat.Event.Event object at 0x7ff099eac110>, <visbeat.Event.Event object at 0x7ff099eac150>, <visbeat.Event.Event object at 0x7ff099eac190>, <visbeat.Event.Event object at 0x7ff099eac1d0>, <visbeat.Event.Event object at 0x7ff099eac210>, <visbeat.Event.Event object at 0x7ff099eac250>, <visbeat.Event.Event object at 0x7ff099eac290>, <visbeat.Event.Event object at 0x7ff099eac2d0>, <visbeat.Event.Event object at 0x7ff099eac310>, <visbeat.Event.Event object at 0x7ff099eac350>, <visbeat.Event.Event object at 0x7ff099eac390>, <visbeat.Event.Event object at 0x7ff099eac3d0>, <visbeat.Event.Event object at 0x7ff099eac410>, <visbeat.Event.Event object at 0x7ff099eac450>, <visbeat.Event.Event object at 0x7ff099eac490>, <visbeat.Event.Event object at 0x7ff099eac4d0>, <visbeat.Event.Event object at 0x7ff099eac510>, <visbeat.Event.Event object at 0x7ff099eac550>, <visbeat.Event.Event object at 0x7ff099eac590>, <visbeat.Event.Event object at 0x7ff099eac5d0>, <visbeat.Event.Event object at 0x7ff099eac610>, <visbeat.Event.Event object at 0x7ff099eac650>, <visbeat.Event.Event object at 0x7ff099eac690>, <visbeat.Event.Event object at 0x7ff099eac6d0>, <visbeat.Event.Event object at 0x7ff099eac710>, <visbeat.Event.Event object at 0x7ff099eac750>, <visbeat.Event.Event object at 0x7ff099eac790>, <visbeat.Event.Event object at 0x7ff099eac7d0>, <visbeat.Event.Event object at 0x7ff099eac810>, <visbeat.Event.Event object at 0x7ff099eac850>, <visbeat.Event.Event object at 0x7ff099eac890>, <visbeat.Event.Event object at 0x7ff099eac8d0>, <visbeat.Event.Event object at 0x7ff099eac910>, <visbeat.Event.Event object at 0x7ff099eac950>, <visbeat.Event.Event object at 0x7ff099eac990>, <visbeat.Event.Event object at 0x7ff099eac9d0>, <visbeat.Event.Event object at 0x7ff099eaca10>, <visbeat.Event.Event object at 0x7ff099eaca50>, <visbeat.Event.Event object at 0x7ff099eaca90>]\n",
            "length of tbeats is: 386\n",
            "start_video_beat: 0, start_audio_beat: 0\n",
            "target start: 0.301859410431\n",
            "target end: 184.520090703\n",
            "target duration: 184.218231293\n",
            "\u001b[1;34m[swscaler @ 0x4f7b300] \u001b[0m\u001b[0;33mWarning: data is not aligned! This can lead to a speedloss\n",
            "\u001b[0m39.0879478827%% done after 10.0788021088 seconds...\n",
            "76.0043431053%% done after 20.2267720699 seconds...\n",
            "Calculating frames for None...\n",
            "Done.\n",
            "Issue loading audio for ./TEMP_Take Me With You-UT7ilqcoTWI_240_TO_Benny Benassi - Satisfaction (MONCERAT Remix)-XhLta2JRUqE_240quad_sab_0_svb_0.mp4\n",
            "Using bitrate of 20000k\n",
            "stereo is False\n",
            "[MoviePy] >>>> Building video ./VisBeatAssets/VideoSources/UT7ilqcoTWI/Versions/Warps/maxheight_240//Take Me With You-UT7ilqcoTWI_240_TO_Benny Benassi - Satisfaction (MONCERAT Remix)-XhLta2JRUqE_240quad_sab_0_svb_0.mp4\n",
            "[MoviePy] Writing audio in ./TEMP_Take Me With You-UT7ilqcoTWI_240_TO_Benny Benassi - Satisfaction (MONCERAT Remix)-XhLta2JRUqE_240quad_sab_0_svb_0.mp4.m4a\n",
            "100% 4061/4061 [00:07<00:00, 545.52it/s]\n",
            "[MoviePy] Done.\n",
            "[MoviePy] Writing video ./VisBeatAssets/VideoSources/UT7ilqcoTWI/Versions/Warps/maxheight_240//Take Me With You-UT7ilqcoTWI_240_TO_Benny Benassi - Satisfaction (MONCERAT Remix)-XhLta2JRUqE_240quad_sab_0_svb_0.mp4\n",
            "100% 4605/4606 [00:34<00:00, 134.67it/s]\n",
            "[MoviePy] Done.\n",
            "[MoviePy] >>>> Video ready: ./VisBeatAssets/VideoSources/UT7ilqcoTWI/Versions/Warps/maxheight_240//Take Me With You-UT7ilqcoTWI_240_TO_Benny Benassi - Satisfaction (MONCERAT Remix)-XhLta2JRUqE_240quad_sab_0_svb_0.mp4 \n",
            "\n",
            "Calculating frames for None...\n",
            "Done.\n",
            "HOW TO PLAY VIDEO? NOT A NOTEBOOK.\n"
          ]
        }
      ]
    },
    {
      "cell_type": "code",
      "metadata": {
        "id": "i74NrbVLqCsG",
        "colab": {
          "base_uri": "https://localhost:8080/",
          "height": 17
        },
        "cellView": "form",
        "outputId": "d5244e6e-e12d-4258-b383-21a5270c2542"
      },
      "source": [
        "#@title ⬅ Press the button to download the video\n",
        "from google.colab import files\n",
        "files.download('result.mp4')"
      ],
      "execution_count": 24,
      "outputs": [
        {
          "output_type": "display_data",
          "data": {
            "application/javascript": [
              "\n",
              "    async function download(id, filename, size) {\n",
              "      if (!google.colab.kernel.accessAllowed) {\n",
              "        return;\n",
              "      }\n",
              "      const div = document.createElement('div');\n",
              "      const label = document.createElement('label');\n",
              "      label.textContent = `Downloading \"${filename}\": `;\n",
              "      div.appendChild(label);\n",
              "      const progress = document.createElement('progress');\n",
              "      progress.max = size;\n",
              "      div.appendChild(progress);\n",
              "      document.body.appendChild(div);\n",
              "\n",
              "      const buffers = [];\n",
              "      let downloaded = 0;\n",
              "\n",
              "      const channel = await google.colab.kernel.comms.open(id);\n",
              "      // Send a message to notify the kernel that we're ready.\n",
              "      channel.send({})\n",
              "\n",
              "      for await (const message of channel.messages) {\n",
              "        // Send a message to notify the kernel that we're ready.\n",
              "        channel.send({})\n",
              "        if (message.buffers) {\n",
              "          for (const buffer of message.buffers) {\n",
              "            buffers.push(buffer);\n",
              "            downloaded += buffer.byteLength;\n",
              "            progress.value = downloaded;\n",
              "          }\n",
              "        }\n",
              "      }\n",
              "      const blob = new Blob(buffers, {type: 'application/binary'});\n",
              "      const a = document.createElement('a');\n",
              "      a.href = window.URL.createObjectURL(blob);\n",
              "      a.download = filename;\n",
              "      div.appendChild(a);\n",
              "      a.click();\n",
              "      div.remove();\n",
              "    }\n",
              "  "
            ],
            "text/plain": [
              "<IPython.core.display.Javascript object>"
            ]
          },
          "metadata": {}
        },
        {
          "output_type": "display_data",
          "data": {
            "application/javascript": [
              "download(\"download_67bdd67d-6551-4053-92ac-53ddd10d692a\", \"result.mp4\", 35761282)"
            ],
            "text/plain": [
              "<IPython.core.display.Javascript object>"
            ]
          },
          "metadata": {}
        }
      ]
    }
  ]
}